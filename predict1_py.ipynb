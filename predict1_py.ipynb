{
  "cells": [
    {
      "cell_type": "markdown",
      "metadata": {
        "id": "view-in-github",
        "colab_type": "text"
      },
      "source": [
        "<a href=\"https://colab.research.google.com/github/sinhabhishree/predictive-ai-maintenance/blob/main/predict1_py.ipynb\" target=\"_parent\"><img src=\"https://colab.research.google.com/assets/colab-badge.svg\" alt=\"Open In Colab\"/></a>"
      ]
    },
    {
      "cell_type": "code",
      "execution_count": null,
      "metadata": {
        "colab": {
          "base_uri": "https://localhost:8080/"
        },
        "id": "e6oI6xZjNa0u",
        "outputId": "ec512375-1849-4200-e8a8-c0dd628e6ad2"
      },
      "outputs": [
        {
          "name": "stdout",
          "output_type": "stream",
          "text": [
            "Requirement already satisfied: pandas in /usr/local/lib/python3.10/dist-packages (2.2.2)\n",
            "Requirement already satisfied: numpy in /usr/local/lib/python3.10/dist-packages (1.26.4)\n",
            "Requirement already satisfied: scikit-learn in /usr/local/lib/python3.10/dist-packages (1.5.2)\n",
            "Requirement already satisfied: optuna in /usr/local/lib/python3.10/dist-packages (4.1.0)\n",
            "Requirement already satisfied: imbalanced-learn in /usr/local/lib/python3.10/dist-packages (0.12.4)\n",
            "Requirement already satisfied: matplotlib in /usr/local/lib/python3.10/dist-packages (3.8.0)\n",
            "Requirement already satisfied: python-dateutil>=2.8.2 in /usr/local/lib/python3.10/dist-packages (from pandas) (2.8.2)\n",
            "Requirement already satisfied: pytz>=2020.1 in /usr/local/lib/python3.10/dist-packages (from pandas) (2024.2)\n",
            "Requirement already satisfied: tzdata>=2022.7 in /usr/local/lib/python3.10/dist-packages (from pandas) (2024.2)\n",
            "Requirement already satisfied: scipy>=1.6.0 in /usr/local/lib/python3.10/dist-packages (from scikit-learn) (1.13.1)\n",
            "Requirement already satisfied: joblib>=1.2.0 in /usr/local/lib/python3.10/dist-packages (from scikit-learn) (1.4.2)\n",
            "Requirement already satisfied: threadpoolctl>=3.1.0 in /usr/local/lib/python3.10/dist-packages (from scikit-learn) (3.5.0)\n",
            "Requirement already satisfied: alembic>=1.5.0 in /usr/local/lib/python3.10/dist-packages (from optuna) (1.14.0)\n",
            "Requirement already satisfied: colorlog in /usr/local/lib/python3.10/dist-packages (from optuna) (6.9.0)\n",
            "Requirement already satisfied: packaging>=20.0 in /usr/local/lib/python3.10/dist-packages (from optuna) (24.2)\n",
            "Requirement already satisfied: sqlalchemy>=1.4.2 in /usr/local/lib/python3.10/dist-packages (from optuna) (2.0.36)\n",
            "Requirement already satisfied: tqdm in /usr/local/lib/python3.10/dist-packages (from optuna) (4.66.6)\n",
            "Requirement already satisfied: PyYAML in /usr/local/lib/python3.10/dist-packages (from optuna) (6.0.2)\n",
            "Requirement already satisfied: contourpy>=1.0.1 in /usr/local/lib/python3.10/dist-packages (from matplotlib) (1.3.1)\n",
            "Requirement already satisfied: cycler>=0.10 in /usr/local/lib/python3.10/dist-packages (from matplotlib) (0.12.1)\n",
            "Requirement already satisfied: fonttools>=4.22.0 in /usr/local/lib/python3.10/dist-packages (from matplotlib) (4.55.3)\n",
            "Requirement already satisfied: kiwisolver>=1.0.1 in /usr/local/lib/python3.10/dist-packages (from matplotlib) (1.4.7)\n",
            "Requirement already satisfied: pillow>=6.2.0 in /usr/local/lib/python3.10/dist-packages (from matplotlib) (11.0.0)\n",
            "Requirement already satisfied: pyparsing>=2.3.1 in /usr/local/lib/python3.10/dist-packages (from matplotlib) (3.2.0)\n",
            "Requirement already satisfied: Mako in /usr/local/lib/python3.10/dist-packages (from alembic>=1.5.0->optuna) (1.3.8)\n",
            "Requirement already satisfied: typing-extensions>=4 in /usr/local/lib/python3.10/dist-packages (from alembic>=1.5.0->optuna) (4.12.2)\n",
            "Requirement already satisfied: six>=1.5 in /usr/local/lib/python3.10/dist-packages (from python-dateutil>=2.8.2->pandas) (1.17.0)\n",
            "Requirement already satisfied: greenlet!=0.4.17 in /usr/local/lib/python3.10/dist-packages (from sqlalchemy>=1.4.2->optuna) (3.1.1)\n",
            "Requirement already satisfied: MarkupSafe>=0.9.2 in /usr/local/lib/python3.10/dist-packages (from Mako->alembic>=1.5.0->optuna) (3.0.2)\n"
          ]
        }
      ],
      "source": [
        "!pip install pandas numpy scikit-learn optuna imbalanced-learn matplotlib\n"
      ]
    },
    {
      "cell_type": "code",
      "execution_count": null,
      "metadata": {
        "id": "5YO_Llm7QjTH"
      },
      "outputs": [],
      "source": [
        "# Import libraries\n",
        "import pandas as pd\n",
        "import numpy as np\n",
        "import optuna\n",
        "from sklearn.model_selection import train_test_split\n",
        "from sklearn.ensemble import RandomForestClassifier\n",
        "from sklearn.metrics import classification_report, confusion_matrix, roc_auc_score\n",
        "from sklearn.decomposition import PCA\n",
        "from sklearn.preprocessing import StandardScaler\n",
        "from imblearn.over_sampling import SMOTE\n",
        "import matplotlib.pyplot as plt"
      ]
    },
    {
      "cell_type": "code",
      "execution_count": null,
      "metadata": {
        "colab": {
          "base_uri": "https://localhost:8080/",
          "height": 73
        },
        "id": "LFE1f11aQ0l1",
        "outputId": "f8a907aa-fe57-4676-e283-fe5869da0d61"
      },
      "outputs": [
        {
          "data": {
            "text/html": [
              "\n",
              "     <input type=\"file\" id=\"files-af79d1f3-6afc-4fc8-bf49-2d17c46085f0\" name=\"files[]\" multiple disabled\n",
              "        style=\"border:none\" />\n",
              "     <output id=\"result-af79d1f3-6afc-4fc8-bf49-2d17c46085f0\">\n",
              "      Upload widget is only available when the cell has been executed in the\n",
              "      current browser session. Please rerun this cell to enable.\n",
              "      </output>\n",
              "      <script>// Copyright 2017 Google LLC\n",
              "//\n",
              "// Licensed under the Apache License, Version 2.0 (the \"License\");\n",
              "// you may not use this file except in compliance with the License.\n",
              "// You may obtain a copy of the License at\n",
              "//\n",
              "//      http://www.apache.org/licenses/LICENSE-2.0\n",
              "//\n",
              "// Unless required by applicable law or agreed to in writing, software\n",
              "// distributed under the License is distributed on an \"AS IS\" BASIS,\n",
              "// WITHOUT WARRANTIES OR CONDITIONS OF ANY KIND, either express or implied.\n",
              "// See the License for the specific language governing permissions and\n",
              "// limitations under the License.\n",
              "\n",
              "/**\n",
              " * @fileoverview Helpers for google.colab Python module.\n",
              " */\n",
              "(function(scope) {\n",
              "function span(text, styleAttributes = {}) {\n",
              "  const element = document.createElement('span');\n",
              "  element.textContent = text;\n",
              "  for (const key of Object.keys(styleAttributes)) {\n",
              "    element.style[key] = styleAttributes[key];\n",
              "  }\n",
              "  return element;\n",
              "}\n",
              "\n",
              "// Max number of bytes which will be uploaded at a time.\n",
              "const MAX_PAYLOAD_SIZE = 100 * 1024;\n",
              "\n",
              "function _uploadFiles(inputId, outputId) {\n",
              "  const steps = uploadFilesStep(inputId, outputId);\n",
              "  const outputElement = document.getElementById(outputId);\n",
              "  // Cache steps on the outputElement to make it available for the next call\n",
              "  // to uploadFilesContinue from Python.\n",
              "  outputElement.steps = steps;\n",
              "\n",
              "  return _uploadFilesContinue(outputId);\n",
              "}\n",
              "\n",
              "// This is roughly an async generator (not supported in the browser yet),\n",
              "// where there are multiple asynchronous steps and the Python side is going\n",
              "// to poll for completion of each step.\n",
              "// This uses a Promise to block the python side on completion of each step,\n",
              "// then passes the result of the previous step as the input to the next step.\n",
              "function _uploadFilesContinue(outputId) {\n",
              "  const outputElement = document.getElementById(outputId);\n",
              "  const steps = outputElement.steps;\n",
              "\n",
              "  const next = steps.next(outputElement.lastPromiseValue);\n",
              "  return Promise.resolve(next.value.promise).then((value) => {\n",
              "    // Cache the last promise value to make it available to the next\n",
              "    // step of the generator.\n",
              "    outputElement.lastPromiseValue = value;\n",
              "    return next.value.response;\n",
              "  });\n",
              "}\n",
              "\n",
              "/**\n",
              " * Generator function which is called between each async step of the upload\n",
              " * process.\n",
              " * @param {string} inputId Element ID of the input file picker element.\n",
              " * @param {string} outputId Element ID of the output display.\n",
              " * @return {!Iterable<!Object>} Iterable of next steps.\n",
              " */\n",
              "function* uploadFilesStep(inputId, outputId) {\n",
              "  const inputElement = document.getElementById(inputId);\n",
              "  inputElement.disabled = false;\n",
              "\n",
              "  const outputElement = document.getElementById(outputId);\n",
              "  outputElement.innerHTML = '';\n",
              "\n",
              "  const pickedPromise = new Promise((resolve) => {\n",
              "    inputElement.addEventListener('change', (e) => {\n",
              "      resolve(e.target.files);\n",
              "    });\n",
              "  });\n",
              "\n",
              "  const cancel = document.createElement('button');\n",
              "  inputElement.parentElement.appendChild(cancel);\n",
              "  cancel.textContent = 'Cancel upload';\n",
              "  const cancelPromise = new Promise((resolve) => {\n",
              "    cancel.onclick = () => {\n",
              "      resolve(null);\n",
              "    };\n",
              "  });\n",
              "\n",
              "  // Wait for the user to pick the files.\n",
              "  const files = yield {\n",
              "    promise: Promise.race([pickedPromise, cancelPromise]),\n",
              "    response: {\n",
              "      action: 'starting',\n",
              "    }\n",
              "  };\n",
              "\n",
              "  cancel.remove();\n",
              "\n",
              "  // Disable the input element since further picks are not allowed.\n",
              "  inputElement.disabled = true;\n",
              "\n",
              "  if (!files) {\n",
              "    return {\n",
              "      response: {\n",
              "        action: 'complete',\n",
              "      }\n",
              "    };\n",
              "  }\n",
              "\n",
              "  for (const file of files) {\n",
              "    const li = document.createElement('li');\n",
              "    li.append(span(file.name, {fontWeight: 'bold'}));\n",
              "    li.append(span(\n",
              "        `(${file.type || 'n/a'}) - ${file.size} bytes, ` +\n",
              "        `last modified: ${\n",
              "            file.lastModifiedDate ? file.lastModifiedDate.toLocaleDateString() :\n",
              "                                    'n/a'} - `));\n",
              "    const percent = span('0% done');\n",
              "    li.appendChild(percent);\n",
              "\n",
              "    outputElement.appendChild(li);\n",
              "\n",
              "    const fileDataPromise = new Promise((resolve) => {\n",
              "      const reader = new FileReader();\n",
              "      reader.onload = (e) => {\n",
              "        resolve(e.target.result);\n",
              "      };\n",
              "      reader.readAsArrayBuffer(file);\n",
              "    });\n",
              "    // Wait for the data to be ready.\n",
              "    let fileData = yield {\n",
              "      promise: fileDataPromise,\n",
              "      response: {\n",
              "        action: 'continue',\n",
              "      }\n",
              "    };\n",
              "\n",
              "    // Use a chunked sending to avoid message size limits. See b/62115660.\n",
              "    let position = 0;\n",
              "    do {\n",
              "      const length = Math.min(fileData.byteLength - position, MAX_PAYLOAD_SIZE);\n",
              "      const chunk = new Uint8Array(fileData, position, length);\n",
              "      position += length;\n",
              "\n",
              "      const base64 = btoa(String.fromCharCode.apply(null, chunk));\n",
              "      yield {\n",
              "        response: {\n",
              "          action: 'append',\n",
              "          file: file.name,\n",
              "          data: base64,\n",
              "        },\n",
              "      };\n",
              "\n",
              "      let percentDone = fileData.byteLength === 0 ?\n",
              "          100 :\n",
              "          Math.round((position / fileData.byteLength) * 100);\n",
              "      percent.textContent = `${percentDone}% done`;\n",
              "\n",
              "    } while (position < fileData.byteLength);\n",
              "  }\n",
              "\n",
              "  // All done.\n",
              "  yield {\n",
              "    response: {\n",
              "      action: 'complete',\n",
              "    }\n",
              "  };\n",
              "}\n",
              "\n",
              "scope.google = scope.google || {};\n",
              "scope.google.colab = scope.google.colab || {};\n",
              "scope.google.colab._files = {\n",
              "  _uploadFiles,\n",
              "  _uploadFilesContinue,\n",
              "};\n",
              "})(self);\n",
              "</script> "
            ],
            "text/plain": [
              "<IPython.core.display.HTML object>"
            ]
          },
          "metadata": {},
          "output_type": "display_data"
        },
        {
          "name": "stdout",
          "output_type": "stream",
          "text": [
            "Saving processed_data_with_features.csv to processed_data_with_features.csv\n"
          ]
        }
      ],
      "source": [
        "# Step 1: Load the dataset\n",
        "from google.colab import files\n",
        "uploaded = files.upload()  # Allows file upload in Colab\n",
        "file_path = list(uploaded.keys())[0]\n",
        "data = pd.read_csv(file_path)"
      ]
    },
    {
      "cell_type": "code",
      "execution_count": null,
      "metadata": {
        "colab": {
          "base_uri": "https://localhost:8080/"
        },
        "id": "igD3GbZnRFbB",
        "outputId": "4397bd0f-d2a1-4e0a-a0c0-aca4a5ed2277"
      },
      "outputs": [
        {
          "name": "stdout",
          "output_type": "stream",
          "text": [
            "Dataset Loaded Successfully!\n",
            "             Timestamp  Temperature (°C)  Vibration (mm/s)  Pressure (Pa)  \\\n",
            "0  2019-01-01 00:00:00          0.176283          0.033611       0.404079   \n",
            "1  2019-01-01 01:00:00          0.750960          0.302949       1.033265   \n",
            "2  2019-01-01 02:00:00          0.362631         -0.712681       1.597605   \n",
            "3  2019-01-01 03:00:00          0.162707         -0.000341       0.058888   \n",
            "4  2019-01-01 04:00:00         -0.256026         -1.623271      -0.618951   \n",
            "\n",
            "        RPM  Maintenance Required  Temp_Change  Vib_Change  Temperature_Mean  \\\n",
            "0  0.832177                     1    -0.000021   -0.000016               NaN   \n",
            "1 -0.719691                     1     0.406404    0.190254               NaN   \n",
            "2  0.428044                     1    -0.274656   -0.717490               NaN   \n",
            "3  1.492644                     0    -0.141411    0.503204               NaN   \n",
            "4  1.035398                     0    -0.296158   -1.146507          0.239311   \n",
            "\n",
            "   Vibration_Mean  Pressure_Mean  RPM_Mean  \n",
            "0             NaN            NaN       NaN  \n",
            "1             NaN            NaN       NaN  \n",
            "2             NaN            NaN       NaN  \n",
            "3             NaN            NaN       NaN  \n",
            "4       -0.399947       0.494977  0.613714  \n"
          ]
        }
      ],
      "source": [
        "# Display the first few rows of the dataset\n",
        "print(\"Dataset Loaded Successfully!\")\n",
        "print(data.head())"
      ]
    },
    {
      "cell_type": "code",
      "execution_count": null,
      "metadata": {
        "colab": {
          "base_uri": "https://localhost:8080/"
        },
        "id": "bj9dbJV9RzDA",
        "outputId": "e729f25f-9487-45f8-d4a6-79f52978be68"
      },
      "outputs": [
        {
          "name": "stdout",
          "output_type": "stream",
          "text": [
            "\n",
            "Checking for Missing Values:\n",
            "Timestamp               0\n",
            "Temperature (°C)        0\n",
            "Vibration (mm/s)        0\n",
            "Pressure (Pa)           0\n",
            "RPM                     0\n",
            "Maintenance Required    0\n",
            "Temp_Change             0\n",
            "Vib_Change              0\n",
            "Temperature_Mean        4\n",
            "Vibration_Mean          4\n",
            "Pressure_Mean           4\n",
            "RPM_Mean                4\n",
            "dtype: int64\n"
          ]
        }
      ],
      "source": [
        "# Step 2: Handle Missing Values\n",
        "print(\"\\nChecking for Missing Values:\")\n",
        "missing_values = data.isnull().sum()\n",
        "print(missing_values)"
      ]
    },
    {
      "cell_type": "code",
      "execution_count": null,
      "metadata": {
        "colab": {
          "base_uri": "https://localhost:8080/"
        },
        "id": "n33arkOlR2ih",
        "outputId": "49f11264-7ba2-4b09-f62f-5c6635bc57d7"
      },
      "outputs": [
        {
          "name": "stdout",
          "output_type": "stream",
          "text": [
            "Rows with missing values removed.\n"
          ]
        }
      ],
      "source": [
        "# Drop rows with missing values\n",
        "data = data.dropna()\n",
        "print(\"Rows with missing values removed.\")"
      ]
    },
    {
      "cell_type": "code",
      "execution_count": null,
      "metadata": {
        "colab": {
          "base_uri": "https://localhost:8080/"
        },
        "id": "BOrbTI4HR55j",
        "outputId": "fffd87b0-a23f-41a6-d43c-3b0bc30ec096"
      },
      "outputs": [
        {
          "name": "stdout",
          "output_type": "stream",
          "text": [
            "\n",
            "Columns in the dataset: ['Timestamp', 'Temperature (°C)', 'Vibration (mm/s)', 'Pressure (Pa)', 'RPM', 'Maintenance Required', 'Temp_Change', 'Vib_Change', 'Temperature_Mean', 'Vibration_Mean', 'Pressure_Mean', 'RPM_Mean']\n",
            "Enter the Target Column (e.g., Failure): Maintenance Required\n"
          ]
        }
      ],
      "source": [
        "# Step 3: Select Target Column\n",
        "print(\"\\nColumns in the dataset:\", list(data.columns))\n",
        "target_column = input(\"Enter the Target Column (e.g., Failure): \")\n",
        "features = [col for col in data.columns if col != target_column]"
      ]
    },
    {
      "cell_type": "code",
      "execution_count": null,
      "metadata": {
        "colab": {
          "base_uri": "https://localhost:8080/"
        },
        "id": "PTZhVzijR8eQ",
        "outputId": "965068e1-cd68-4755-ba40-670ae9eb6a2b"
      },
      "outputs": [
        {
          "name": "stdout",
          "output_type": "stream",
          "text": [
            "\n",
            "Available Features: ['Timestamp', 'Temperature (°C)', 'Vibration (mm/s)', 'Pressure (Pa)', 'RPM', 'Temp_Change', 'Vib_Change', 'Temperature_Mean', 'Vibration_Mean', 'Pressure_Mean', 'RPM_Mean']\n",
            "Enter Features for Prediction (comma-separated): Temperature (°C),Vibration (mm/s), Pressure (Pa), RPM\n"
          ]
        }
      ],
      "source": [
        "# Step 4: Select Features\n",
        "print(\"\\nAvailable Features:\", features)\n",
        "selected_features = input(\"Enter Features for Prediction (comma-separated): \").split(',')\n",
        "# Prepare features (X) and target (y)"
      ]
    },
    {
      "cell_type": "code",
      "source": [
        "from google.colab import files\n",
        "uploaded = files.upload()"
      ],
      "metadata": {
        "colab": {
          "base_uri": "https://localhost:8080/",
          "height": 73
        },
        "id": "ZWA-B_BFlY_U",
        "outputId": "97e231f5-f03a-4749-81cd-e9d3858ae5f5"
      },
      "execution_count": null,
      "outputs": [
        {
          "output_type": "display_data",
          "data": {
            "text/plain": [
              "<IPython.core.display.HTML object>"
            ],
            "text/html": [
              "\n",
              "     <input type=\"file\" id=\"files-1c046306-2dba-4c1b-9552-3a47c710439d\" name=\"files[]\" multiple disabled\n",
              "        style=\"border:none\" />\n",
              "     <output id=\"result-1c046306-2dba-4c1b-9552-3a47c710439d\">\n",
              "      Upload widget is only available when the cell has been executed in the\n",
              "      current browser session. Please rerun this cell to enable.\n",
              "      </output>\n",
              "      <script>// Copyright 2017 Google LLC\n",
              "//\n",
              "// Licensed under the Apache License, Version 2.0 (the \"License\");\n",
              "// you may not use this file except in compliance with the License.\n",
              "// You may obtain a copy of the License at\n",
              "//\n",
              "//      http://www.apache.org/licenses/LICENSE-2.0\n",
              "//\n",
              "// Unless required by applicable law or agreed to in writing, software\n",
              "// distributed under the License is distributed on an \"AS IS\" BASIS,\n",
              "// WITHOUT WARRANTIES OR CONDITIONS OF ANY KIND, either express or implied.\n",
              "// See the License for the specific language governing permissions and\n",
              "// limitations under the License.\n",
              "\n",
              "/**\n",
              " * @fileoverview Helpers for google.colab Python module.\n",
              " */\n",
              "(function(scope) {\n",
              "function span(text, styleAttributes = {}) {\n",
              "  const element = document.createElement('span');\n",
              "  element.textContent = text;\n",
              "  for (const key of Object.keys(styleAttributes)) {\n",
              "    element.style[key] = styleAttributes[key];\n",
              "  }\n",
              "  return element;\n",
              "}\n",
              "\n",
              "// Max number of bytes which will be uploaded at a time.\n",
              "const MAX_PAYLOAD_SIZE = 100 * 1024;\n",
              "\n",
              "function _uploadFiles(inputId, outputId) {\n",
              "  const steps = uploadFilesStep(inputId, outputId);\n",
              "  const outputElement = document.getElementById(outputId);\n",
              "  // Cache steps on the outputElement to make it available for the next call\n",
              "  // to uploadFilesContinue from Python.\n",
              "  outputElement.steps = steps;\n",
              "\n",
              "  return _uploadFilesContinue(outputId);\n",
              "}\n",
              "\n",
              "// This is roughly an async generator (not supported in the browser yet),\n",
              "// where there are multiple asynchronous steps and the Python side is going\n",
              "// to poll for completion of each step.\n",
              "// This uses a Promise to block the python side on completion of each step,\n",
              "// then passes the result of the previous step as the input to the next step.\n",
              "function _uploadFilesContinue(outputId) {\n",
              "  const outputElement = document.getElementById(outputId);\n",
              "  const steps = outputElement.steps;\n",
              "\n",
              "  const next = steps.next(outputElement.lastPromiseValue);\n",
              "  return Promise.resolve(next.value.promise).then((value) => {\n",
              "    // Cache the last promise value to make it available to the next\n",
              "    // step of the generator.\n",
              "    outputElement.lastPromiseValue = value;\n",
              "    return next.value.response;\n",
              "  });\n",
              "}\n",
              "\n",
              "/**\n",
              " * Generator function which is called between each async step of the upload\n",
              " * process.\n",
              " * @param {string} inputId Element ID of the input file picker element.\n",
              " * @param {string} outputId Element ID of the output display.\n",
              " * @return {!Iterable<!Object>} Iterable of next steps.\n",
              " */\n",
              "function* uploadFilesStep(inputId, outputId) {\n",
              "  const inputElement = document.getElementById(inputId);\n",
              "  inputElement.disabled = false;\n",
              "\n",
              "  const outputElement = document.getElementById(outputId);\n",
              "  outputElement.innerHTML = '';\n",
              "\n",
              "  const pickedPromise = new Promise((resolve) => {\n",
              "    inputElement.addEventListener('change', (e) => {\n",
              "      resolve(e.target.files);\n",
              "    });\n",
              "  });\n",
              "\n",
              "  const cancel = document.createElement('button');\n",
              "  inputElement.parentElement.appendChild(cancel);\n",
              "  cancel.textContent = 'Cancel upload';\n",
              "  const cancelPromise = new Promise((resolve) => {\n",
              "    cancel.onclick = () => {\n",
              "      resolve(null);\n",
              "    };\n",
              "  });\n",
              "\n",
              "  // Wait for the user to pick the files.\n",
              "  const files = yield {\n",
              "    promise: Promise.race([pickedPromise, cancelPromise]),\n",
              "    response: {\n",
              "      action: 'starting',\n",
              "    }\n",
              "  };\n",
              "\n",
              "  cancel.remove();\n",
              "\n",
              "  // Disable the input element since further picks are not allowed.\n",
              "  inputElement.disabled = true;\n",
              "\n",
              "  if (!files) {\n",
              "    return {\n",
              "      response: {\n",
              "        action: 'complete',\n",
              "      }\n",
              "    };\n",
              "  }\n",
              "\n",
              "  for (const file of files) {\n",
              "    const li = document.createElement('li');\n",
              "    li.append(span(file.name, {fontWeight: 'bold'}));\n",
              "    li.append(span(\n",
              "        `(${file.type || 'n/a'}) - ${file.size} bytes, ` +\n",
              "        `last modified: ${\n",
              "            file.lastModifiedDate ? file.lastModifiedDate.toLocaleDateString() :\n",
              "                                    'n/a'} - `));\n",
              "    const percent = span('0% done');\n",
              "    li.appendChild(percent);\n",
              "\n",
              "    outputElement.appendChild(li);\n",
              "\n",
              "    const fileDataPromise = new Promise((resolve) => {\n",
              "      const reader = new FileReader();\n",
              "      reader.onload = (e) => {\n",
              "        resolve(e.target.result);\n",
              "      };\n",
              "      reader.readAsArrayBuffer(file);\n",
              "    });\n",
              "    // Wait for the data to be ready.\n",
              "    let fileData = yield {\n",
              "      promise: fileDataPromise,\n",
              "      response: {\n",
              "        action: 'continue',\n",
              "      }\n",
              "    };\n",
              "\n",
              "    // Use a chunked sending to avoid message size limits. See b/62115660.\n",
              "    let position = 0;\n",
              "    do {\n",
              "      const length = Math.min(fileData.byteLength - position, MAX_PAYLOAD_SIZE);\n",
              "      const chunk = new Uint8Array(fileData, position, length);\n",
              "      position += length;\n",
              "\n",
              "      const base64 = btoa(String.fromCharCode.apply(null, chunk));\n",
              "      yield {\n",
              "        response: {\n",
              "          action: 'append',\n",
              "          file: file.name,\n",
              "          data: base64,\n",
              "        },\n",
              "      };\n",
              "\n",
              "      let percentDone = fileData.byteLength === 0 ?\n",
              "          100 :\n",
              "          Math.round((position / fileData.byteLength) * 100);\n",
              "      percent.textContent = `${percentDone}% done`;\n",
              "\n",
              "    } while (position < fileData.byteLength);\n",
              "  }\n",
              "\n",
              "  // All done.\n",
              "  yield {\n",
              "    response: {\n",
              "      action: 'complete',\n",
              "    }\n",
              "  };\n",
              "}\n",
              "\n",
              "scope.google = scope.google || {};\n",
              "scope.google.colab = scope.google.colab || {};\n",
              "scope.google.colab._files = {\n",
              "  _uploadFiles,\n",
              "  _uploadFilesContinue,\n",
              "};\n",
              "})(self);\n",
              "</script> "
            ]
          },
          "metadata": {}
        },
        {
          "output_type": "stream",
          "name": "stdout",
          "text": [
            "Saving processed_data_with_features.csv to processed_data_with_features (1).csv\n"
          ]
        }
      ]
    },
    {
      "cell_type": "code",
      "source": [
        "import pandas as pd\n",
        "\n",
        "# Load the dataset\n",
        "file_path = '/content/processed_data_with_features.csv'  # Path in Google Colab\n",
        "data = pd.read_csv(file_path)\n",
        "\n",
        "# Select features and target\n",
        "selected_features = ['Temperature (°C)','Vibration (mm/s)','Pressure (Pa)','RPM',]\n",
        "target_column = 'Maintenance Required'\n",
        "\n",
        "# Prepare features (X) and target (y)\n",
        "X = data[selected_features]\n",
        "y = data[target_column]\n",
        "\n",
        "# Display shapes of X and y\n",
        "print(\"Features (X):\", X.shape)\n",
        "print(\"Target (y):\", y.shape)\n"
      ],
      "metadata": {
        "colab": {
          "base_uri": "https://localhost:8080/"
        },
        "id": "LrCNSGqip9b9",
        "outputId": "1d99998f-9ae7-488e-be32-eb3be59ccf35"
      },
      "execution_count": null,
      "outputs": [
        {
          "output_type": "stream",
          "name": "stdout",
          "text": [
            "Features (X): (43800, 4)\n",
            "Target (y): (43800,)\n"
          ]
        }
      ]
    },
    {
      "cell_type": "code",
      "source": [
        "from sklearn.preprocessing import StandardScaler  # Import StandardScaler\n",
        "\n",
        "# Step 5: Data Scaling\n",
        "scaler = StandardScaler()\n",
        "X_scaled = scaler.fit_transform(X)\n",
        "\n",
        "# Optional: Check scaled data\n",
        "print(\"Scaled Data (First 5 Rows):\")\n",
        "print(pd.DataFrame(X_scaled, columns=selected_features).head())\n"
      ],
      "metadata": {
        "colab": {
          "base_uri": "https://localhost:8080/"
        },
        "id": "ZWySwGiAq2sZ",
        "outputId": "54b9fd58-ff37-41c9-e6d8-ad81f46aabd0"
      },
      "execution_count": null,
      "outputs": [
        {
          "output_type": "stream",
          "name": "stdout",
          "text": [
            "Scaled Data (First 5 Rows):\n",
            "   Temperature (°C)  Vibration (mm/s)  Pressure (Pa)       RPM\n",
            "0          0.176283          0.033611       0.404079  0.832177\n",
            "1          0.750960          0.302949       1.033265 -0.719691\n",
            "2          0.362631         -0.712681       1.597605  0.428044\n",
            "3          0.162707         -0.000341       0.058888  1.492644\n",
            "4         -0.256026         -1.623271      -0.618951  1.035398\n"
          ]
        }
      ]
    },
    {
      "cell_type": "code",
      "source": [
        "# Import necessary library\n",
        "from sklearn.model_selection import train_test_split\n",
        "\n",
        "# Train-Test Split\n",
        "X_train, X_test, y_train, y_test = train_test_split(X_scaled, y, test_size=0.3, random_state=42)\n",
        "\n",
        "# Verify the output shapes\n",
        "print(\"X_train shape:\", X_train.shape)\n",
        "print(\"X_test shape:\", X_test.shape)\n",
        "print(\"y_train shape:\", y_train.shape)\n",
        "print(\"y_test shape:\", y_test.shape)\n"
      ],
      "metadata": {
        "colab": {
          "base_uri": "https://localhost:8080/"
        },
        "id": "vWc7EkGyq4j_",
        "outputId": "7549391f-db70-4e74-cddb-d7e57336be7c"
      },
      "execution_count": null,
      "outputs": [
        {
          "output_type": "stream",
          "name": "stdout",
          "text": [
            "X_train shape: (30660, 4)\n",
            "X_test shape: (13140, 4)\n",
            "y_train shape: (30660,)\n",
            "y_test shape: (13140,)\n"
          ]
        }
      ]
    },
    {
      "cell_type": "code",
      "source": [
        "# Step 6: Handle Imbalance with SMOTE\n",
        "from imblearn.over_sampling import SMOTE\n",
        "\n",
        "# Apply SMOTE to balance the dataset\n",
        "smote = SMOTE(random_state=42)\n",
        "X_train_res, y_train_res = smote.fit_resample(X_train, y_train)\n",
        "\n",
        "# Verify the new shapes of the balanced data\n",
        "print(\"Original y_train distribution:\", y_train.value_counts())\n",
        "print(\"Resampled y_train_res distribution:\", pd.Series(y_train_res).value_counts())\n"
      ],
      "metadata": {
        "colab": {
          "base_uri": "https://localhost:8080/"
        },
        "id": "2QPfm-DArP9j",
        "outputId": "6642a9c2-382c-44e8-e563-81ad1bc886db"
      },
      "execution_count": null,
      "outputs": [
        {
          "output_type": "stream",
          "name": "stdout",
          "text": [
            "Original y_train distribution: Maintenance Required\n",
            "1    15392\n",
            "0    15268\n",
            "Name: count, dtype: int64\n",
            "Resampled y_train_res distribution: Maintenance Required\n",
            "0    15392\n",
            "1    15392\n",
            "Name: count, dtype: int64\n"
          ]
        }
      ]
    },
    {
      "cell_type": "code",
      "source": [
        "\n",
        "# Step 7: Dimensionality Reduction with PCA\n",
        "from sklearn.decomposition import PCA\n",
        "\n",
        "# Reduce to 2 principal components\n",
        "pca = PCA(n_components=2)\n",
        "\n",
        "# Fit PCA on the training data and transform both train and test sets\n",
        "X_train_pca = pca.fit_transform(X_train_res)\n",
        "X_test_pca = pca.transform(X_test)\n",
        "\n",
        "# Display the first five rows of the transformed training set\n",
        "print(\"\\nPCA Results (First 5 Rows):\")\n",
        "print(pd.DataFrame(X_train_pca, columns=[\"PC1\", \"PC2\"]).head())\n",
        "\n"
      ],
      "metadata": {
        "colab": {
          "base_uri": "https://localhost:8080/"
        },
        "id": "6ZvGzmJ6rgor",
        "outputId": "cd51964d-c299-4606-b9ab-8896e1992395"
      },
      "execution_count": null,
      "outputs": [
        {
          "output_type": "stream",
          "name": "stdout",
          "text": [
            "\n",
            "PCA Results (First 5 Rows):\n",
            "        PC1       PC2\n",
            "0  0.351636  0.157770\n",
            "1  0.849904  1.052171\n",
            "2  1.884701  1.133245\n",
            "3  0.902494  1.199965\n",
            "4 -0.447079  0.800530\n"
          ]
        }
      ]
    },
    {
      "cell_type": "code",
      "source": [
        "# Step 7: Model Training with Optuna\n",
        "def objective(trial):\n",
        "    n_estimators = trial.suggest_int('n_estimators', 50, 200)\n",
        "    max_depth = trial.suggest_int('max_depth', 5, 20)\n",
        "    min_samples_split = trial.suggest_int('min_samples_split', 2, 10)\n",
        "    model = RandomForestClassifier(\n",
        "        n_estimators=n_estimators,\n",
        "        max_depth=max_depth,\n",
        "        min_samples_split=min_samples_split,\n",
        "        random_state=42\n",
        "    )\n",
        "    model.fit(X_train_res, y_train_res)\n",
        "    y_pred = model.predict(X_test)\n",
        "    return roc_auc_score(y_test, y_pred)\n"
      ],
      "metadata": {
        "id": "AE8NJUS0r8RM"
      },
      "execution_count": null,
      "outputs": []
    },
    {
      "cell_type": "code",
      "source": [
        "# Install Optuna if not installed\n",
        "!pip install optuna\n",
        "\n",
        "# Import necessary libraries\n",
        "import optuna\n",
        "from sklearn.ensemble import RandomForestClassifier\n",
        "from sklearn.metrics import roc_auc_score\n",
        "from sklearn.model_selection import train_test_split\n",
        "from sklearn.datasets import load_iris\n",
        "from imblearn.over_sampling import RandomOverSampler\n",
        "\n",
        "# Load dataset (replace with your own data)\n",
        "data = load_iris()\n",
        "X = data.data\n",
        "y = data.target\n",
        "\n",
        "# Train-test split\n",
        "X_train, X_test, y_train, y_test = train_test_split(X, y, test_size=0.3, random_state=42)\n",
        "\n",
        "# Apply resampling to balance the classes (if needed)\n",
        "ros = RandomOverSampler(random_state=42)\n",
        "X_train_res, y_train_res = ros.fit_resample(X_train, y_train)\n",
        "\n",
        "# Define the objective function\n",
        "def objective(trial):\n",
        "    # Suggest values for hyperparameters\n",
        "    n_estimators = trial.suggest_int('n_estimators', 50, 200)\n",
        "    max_depth = trial.suggest_int('max_depth', 5, 20)\n",
        "    min_samples_split = trial.suggest_int('min_samples_split', 2, 10)\n",
        "\n",
        "    # Train a Random Forest Classifier with suggested hyperparameters\n",
        "    model = RandomForestClassifier(\n",
        "        n_estimators=n_estimators,\n",
        "        max_depth=max_depth,\n",
        "        min_samples_split=min_samples_split,\n",
        "        random_state=42\n",
        "    )\n",
        "    model.fit(X_train_res, y_train_res)\n",
        "\n",
        "    # Predict probabilities (required for AUC calculation)\n",
        "    y_pred_proba = model.predict_proba(X_test)\n",
        "\n",
        "    # Calculate the evaluation metric (AUC score) for multi-class classification\n",
        "    return roc_auc_score(y_test, y_pred_proba, multi_class='ovr')\n",
        "\n",
        "# Run the optimization\n",
        "study = optuna.create_study(direction=\"maximize\")\n",
        "study.optimize(objective, n_trials=30)\n",
        "\n",
        "# Retrieve the best hyperparameters\n",
        "best_params = study.best_params\n",
        "\n",
        "print(\"\\nBest Hyperparameters:\", best_params)\n"
      ],
      "metadata": {
        "colab": {
          "base_uri": "https://localhost:8080/"
        },
        "id": "QMz9Jh6ysHbu",
        "outputId": "30e6a108-58d7-4787-bbfe-b76480d061fc"
      },
      "execution_count": null,
      "outputs": [
        {
          "output_type": "stream",
          "name": "stdout",
          "text": [
            "Requirement already satisfied: optuna in /usr/local/lib/python3.10/dist-packages (4.1.0)\n",
            "Requirement already satisfied: alembic>=1.5.0 in /usr/local/lib/python3.10/dist-packages (from optuna) (1.14.0)\n",
            "Requirement already satisfied: colorlog in /usr/local/lib/python3.10/dist-packages (from optuna) (6.9.0)\n",
            "Requirement already satisfied: numpy in /usr/local/lib/python3.10/dist-packages (from optuna) (1.26.4)\n",
            "Requirement already satisfied: packaging>=20.0 in /usr/local/lib/python3.10/dist-packages (from optuna) (24.2)\n",
            "Requirement already satisfied: sqlalchemy>=1.4.2 in /usr/local/lib/python3.10/dist-packages (from optuna) (2.0.36)\n",
            "Requirement already satisfied: tqdm in /usr/local/lib/python3.10/dist-packages (from optuna) (4.66.6)\n",
            "Requirement already satisfied: PyYAML in /usr/local/lib/python3.10/dist-packages (from optuna) (6.0.2)\n",
            "Requirement already satisfied: Mako in /usr/local/lib/python3.10/dist-packages (from alembic>=1.5.0->optuna) (1.3.8)\n",
            "Requirement already satisfied: typing-extensions>=4 in /usr/local/lib/python3.10/dist-packages (from alembic>=1.5.0->optuna) (4.12.2)\n",
            "Requirement already satisfied: greenlet!=0.4.17 in /usr/local/lib/python3.10/dist-packages (from sqlalchemy>=1.4.2->optuna) (3.1.1)\n",
            "Requirement already satisfied: MarkupSafe>=0.9.2 in /usr/local/lib/python3.10/dist-packages (from Mako->alembic>=1.5.0->optuna) (3.0.2)\n"
          ]
        },
        {
          "output_type": "stream",
          "name": "stderr",
          "text": [
            "[I 2024-12-18 03:41:05,150] A new study created in memory with name: no-name-cf73d079-28e7-4771-8cce-230e366d9a2d\n",
            "[I 2024-12-18 03:41:05,336] Trial 0 finished with value: 1.0 and parameters: {'n_estimators': 115, 'max_depth': 16, 'min_samples_split': 8}. Best is trial 0 with value: 1.0.\n",
            "[I 2024-12-18 03:41:05,538] Trial 1 finished with value: 1.0 and parameters: {'n_estimators': 132, 'max_depth': 19, 'min_samples_split': 6}. Best is trial 0 with value: 1.0.\n",
            "[I 2024-12-18 03:41:05,785] Trial 2 finished with value: 1.0 and parameters: {'n_estimators': 168, 'max_depth': 7, 'min_samples_split': 8}. Best is trial 0 with value: 1.0.\n",
            "[I 2024-12-18 03:41:06,083] Trial 3 finished with value: 1.0 and parameters: {'n_estimators': 199, 'max_depth': 12, 'min_samples_split': 2}. Best is trial 0 with value: 1.0.\n",
            "[I 2024-12-18 03:41:06,165] Trial 4 finished with value: 1.0 and parameters: {'n_estimators': 52, 'max_depth': 8, 'min_samples_split': 7}. Best is trial 0 with value: 1.0.\n",
            "[I 2024-12-18 03:41:06,396] Trial 5 finished with value: 1.0 and parameters: {'n_estimators': 153, 'max_depth': 17, 'min_samples_split': 7}. Best is trial 0 with value: 1.0.\n",
            "[I 2024-12-18 03:41:06,600] Trial 6 finished with value: 1.0 and parameters: {'n_estimators': 124, 'max_depth': 11, 'min_samples_split': 5}. Best is trial 0 with value: 1.0.\n",
            "[I 2024-12-18 03:41:06,705] Trial 7 finished with value: 1.0 and parameters: {'n_estimators': 70, 'max_depth': 14, 'min_samples_split': 9}. Best is trial 0 with value: 1.0.\n",
            "[I 2024-12-18 03:41:06,928] Trial 8 finished with value: 1.0 and parameters: {'n_estimators': 150, 'max_depth': 7, 'min_samples_split': 2}. Best is trial 0 with value: 1.0.\n",
            "[I 2024-12-18 03:41:07,100] Trial 9 finished with value: 1.0 and parameters: {'n_estimators': 117, 'max_depth': 9, 'min_samples_split': 10}. Best is trial 0 with value: 1.0.\n",
            "[I 2024-12-18 03:41:07,266] Trial 10 finished with value: 1.0 and parameters: {'n_estimators': 92, 'max_depth': 16, 'min_samples_split': 4}. Best is trial 0 with value: 1.0.\n",
            "[I 2024-12-18 03:41:07,429] Trial 11 finished with value: 1.0 and parameters: {'n_estimators': 100, 'max_depth': 20, 'min_samples_split': 6}. Best is trial 0 with value: 1.0.\n",
            "[I 2024-12-18 03:41:07,657] Trial 12 finished with value: 1.0 and parameters: {'n_estimators': 133, 'max_depth': 20, 'min_samples_split': 4}. Best is trial 0 with value: 1.0.\n",
            "[I 2024-12-18 03:41:07,829] Trial 13 finished with value: 1.0 and parameters: {'n_estimators': 98, 'max_depth': 17, 'min_samples_split': 8}. Best is trial 0 with value: 1.0.\n",
            "[I 2024-12-18 03:41:08,099] Trial 14 finished with value: 1.0 and parameters: {'n_estimators': 182, 'max_depth': 15, 'min_samples_split': 6}. Best is trial 0 with value: 1.0.\n",
            "[I 2024-12-18 03:41:08,325] Trial 15 finished with value: 1.0 and parameters: {'n_estimators': 140, 'max_depth': 18, 'min_samples_split': 10}. Best is trial 0 with value: 1.0.\n",
            "[I 2024-12-18 03:41:08,522] Trial 16 finished with value: 1.0 and parameters: {'n_estimators': 112, 'max_depth': 19, 'min_samples_split': 8}. Best is trial 0 with value: 1.0.\n",
            "[I 2024-12-18 03:41:08,654] Trial 17 finished with value: 1.0 and parameters: {'n_estimators': 76, 'max_depth': 13, 'min_samples_split': 5}. Best is trial 0 with value: 1.0.\n",
            "[I 2024-12-18 03:41:08,906] Trial 18 finished with value: 1.0 and parameters: {'n_estimators': 161, 'max_depth': 15, 'min_samples_split': 7}. Best is trial 0 with value: 1.0.\n",
            "[I 2024-12-18 03:41:09,123] Trial 19 finished with value: 1.0 and parameters: {'n_estimators': 136, 'max_depth': 5, 'min_samples_split': 9}. Best is trial 0 with value: 1.0.\n",
            "[I 2024-12-18 03:41:09,309] Trial 20 finished with value: 1.0 and parameters: {'n_estimators': 109, 'max_depth': 18, 'min_samples_split': 4}. Best is trial 0 with value: 1.0.\n",
            "[I 2024-12-18 03:41:09,597] Trial 21 finished with value: 1.0 and parameters: {'n_estimators': 168, 'max_depth': 10, 'min_samples_split': 8}. Best is trial 0 with value: 1.0.\n",
            "[I 2024-12-18 03:41:09,871] Trial 22 finished with value: 1.0 and parameters: {'n_estimators': 175, 'max_depth': 5, 'min_samples_split': 9}. Best is trial 0 with value: 1.0.\n",
            "[I 2024-12-18 03:41:10,159] Trial 23 finished with value: 1.0 and parameters: {'n_estimators': 190, 'max_depth': 13, 'min_samples_split': 6}. Best is trial 0 with value: 1.0.\n",
            "[I 2024-12-18 03:41:10,399] Trial 24 finished with value: 1.0 and parameters: {'n_estimators': 144, 'max_depth': 16, 'min_samples_split': 8}. Best is trial 0 with value: 1.0.\n",
            "[I 2024-12-18 03:41:10,648] Trial 25 finished with value: 1.0 and parameters: {'n_estimators': 126, 'max_depth': 19, 'min_samples_split': 7}. Best is trial 0 with value: 1.0.\n",
            "[I 2024-12-18 03:41:10,904] Trial 26 finished with value: 1.0 and parameters: {'n_estimators': 159, 'max_depth': 7, 'min_samples_split': 5}. Best is trial 0 with value: 1.0.\n",
            "[I 2024-12-18 03:41:11,131] Trial 27 finished with value: 1.0 and parameters: {'n_estimators': 85, 'max_depth': 11, 'min_samples_split': 9}. Best is trial 0 with value: 1.0.\n",
            "[I 2024-12-18 03:41:11,575] Trial 28 finished with value: 1.0 and parameters: {'n_estimators': 171, 'max_depth': 14, 'min_samples_split': 6}. Best is trial 0 with value: 1.0.\n",
            "[I 2024-12-18 03:41:12,075] Trial 29 finished with value: 1.0 and parameters: {'n_estimators': 197, 'max_depth': 12, 'min_samples_split': 2}. Best is trial 0 with value: 1.0.\n"
          ]
        },
        {
          "output_type": "stream",
          "name": "stdout",
          "text": [
            "\n",
            "Best Hyperparameters: {'n_estimators': 115, 'max_depth': 16, 'min_samples_split': 8}\n"
          ]
        }
      ]
    },
    {
      "cell_type": "code",
      "source": [
        "# Train Final Model\n",
        "best_model = RandomForestClassifier(**best_params)\n",
        "best_model.fit(X_train_res, y_train_res)\n",
        "y_pred = best_model.predict(X_test)\n"
      ],
      "metadata": {
        "id": "emLk_wYcsKJK"
      },
      "execution_count": null,
      "outputs": []
    },
    {
      "cell_type": "code",
      "source": [
        "# Import necessary libraries\n",
        "from sklearn.metrics import classification_report\n",
        "#step 8 model evaluation\n",
        "\n",
        "\n",
        "# After running the optimization and getting the best model hyperparameters\n",
        "\n",
        "# Train the best model with the best hyperparameters\n",
        "best_model = RandomForestClassifier(\n",
        "    n_estimators=best_params['n_estimators'],\n",
        "    max_depth=best_params['max_depth'],\n",
        "    min_samples_split=best_params['min_samples_split'],\n",
        "    random_state=42\n",
        ")\n",
        "best_model.fit(X_train_res, y_train_res)\n",
        "\n",
        "# Predict the class labels on the test set\n",
        "y_pred = best_model.predict(X_test)\n",
        "\n",
        "# Model Evaluation: Classification Report\n",
        "print(\"\\nClassification Report:\")\n",
        "print(classification_report(y_test, y_pred))\n"
      ],
      "metadata": {
        "colab": {
          "base_uri": "https://localhost:8080/"
        },
        "id": "Wz8git0utgXo",
        "outputId": "d76d43eb-eae4-418c-9f3a-730115c8aff6"
      },
      "execution_count": null,
      "outputs": [
        {
          "output_type": "stream",
          "name": "stdout",
          "text": [
            "\n",
            "Classification Report:\n",
            "              precision    recall  f1-score   support\n",
            "\n",
            "           0       1.00      1.00      1.00        19\n",
            "           1       1.00      1.00      1.00        13\n",
            "           2       1.00      1.00      1.00        13\n",
            "\n",
            "    accuracy                           1.00        45\n",
            "   macro avg       1.00      1.00      1.00        45\n",
            "weighted avg       1.00      1.00      1.00        45\n",
            "\n"
          ]
        }
      ]
    },
    {
      "cell_type": "code",
      "source": [
        "# Confusion Matrix\n",
        "from sklearn.metrics import classification_report, confusion_matrix\n",
        "print(\"\\nConfusion Matrix:\")\n",
        "cm = confusion_matrix(y_test, y_pred)\n",
        "print(cm)\n"
      ],
      "metadata": {
        "colab": {
          "base_uri": "https://localhost:8080/"
        },
        "id": "SzZjJRUgtjUD",
        "outputId": "4ce072c3-5a5b-4e72-8a54-4a28a4a25c72"
      },
      "execution_count": null,
      "outputs": [
        {
          "output_type": "stream",
          "name": "stdout",
          "text": [
            "\n",
            "Confusion Matrix:\n",
            "[[19  0  0]\n",
            " [ 0 13  0]\n",
            " [ 0  0 13]]\n"
          ]
        }
      ]
    },
    {
      "cell_type": "code",
      "source": [
        "# Visualize Confusion Matrix\n",
        "import matplotlib.pyplot as plt\n",
        "plt.figure(figsize=(8, 6))\n",
        "plt.matshow(cm, cmap='Blues', fignum=1)\n",
        "plt.title(\"Confusion Matrix\")\n",
        "plt.colorbar()\n",
        "plt.ylabel(\"True Label\")\n",
        "plt.xlabel(\"Predicted Label\")\n",
        "plt.show()\n",
        "\n"
      ],
      "metadata": {
        "colab": {
          "base_uri": "https://localhost:8080/",
          "height": 572
        },
        "id": "FJ2zIRegt5hy",
        "outputId": "78a92496-4ae7-4dd3-9236-26818f504d9c"
      },
      "execution_count": null,
      "outputs": [
        {
          "output_type": "display_data",
          "data": {
            "text/plain": [
              "<Figure size 800x600 with 2 Axes>"
            ],
            "image/png": "[encoded data removed]"
          },
          "metadata": {}
        }
      ]
    },
    {
      "cell_type": "code",
      "source": [
        "# Check the length of the arrays\n",
        "print(f\"Length of selected_features: {len(selected_features)}\")\n",
        "print(f\"Length of feature_importances: {len(feature_importances)}\")\n",
        "\n",
        "# If they match, create the DataFrame\n",
        "if len(selected_features) == len(feature_importances):\n",
        "    importance_df = pd.DataFrame({\n",
        "        'Feature': selected_features,\n",
        "        'Importance': feature_importances\n",
        "    }).sort_values(by='Importance', ascending=False)\n",
        "    print(importance_df)\n",
        "else:\n",
        "    print(\"Feature selection and feature importances don't match in length.\")\n"
      ],
      "metadata": {
        "colab": {
          "base_uri": "https://localhost:8080/"
        },
        "id": "0IlvXC1juKgl",
        "outputId": "4aa754d6-b7fa-4095-ed4c-36365398e121"
      },
      "execution_count": null,
      "outputs": [
        {
          "output_type": "stream",
          "name": "stdout",
          "text": [
            "Length of selected_features: 4\n",
            "Length of feature_importances: 4\n",
            "            Feature  Importance\n",
            "3               RPM    0.440908\n",
            "2     Pressure (Pa)    0.434575\n",
            "0  Temperature (°C)    0.106165\n",
            "1  Vibration (mm/s)    0.018351\n"
          ]
        }
      ]
    },
    {
      "cell_type": "code",
      "source": [
        "# Check the length of the arrays\n",
        "if len(selected_features) == len(feature_importances):\n",
        "    importance_df = pd.DataFrame({\n",
        "        'Feature': selected_features,\n",
        "        'Importance': feature_importances\n",
        "    }).sort_values(by='Importance', ascending=False)\n",
        "\n",
        "    # Plot Feature Importance\n",
        "    plt.figure(figsize=(8, 6))\n",
        "    plt.barh(importance_df['Feature'], importance_df['Importance'], color='skyblue')\n",
        "    plt.xlabel('Importance')\n",
        "    plt.title('Feature Importance')\n",
        "    plt.gca().invert_yaxis()\n",
        "    plt.show()\n",
        "else:\n",
        "    print(\"Feature selection and feature importances don't match in length.\")\n"
      ],
      "metadata": {
        "colab": {
          "base_uri": "https://localhost:8080/",
          "height": 564
        },
        "id": "TDeaGbkfuWkH",
        "outputId": "73455906-1e4f-4819-9734-ea2f020ec4e7"
      },
      "execution_count": null,
      "outputs": [
        {
          "output_type": "display_data",
          "data": {
            "text/plain": [
              "<Figure size 800x600 with 1 Axes>"
            ],
            "image/png": "[encoded data removed]"
          },
          "metadata": {}
        }
      ]
    },
    {
      "cell_type": "code",
      "source": [],
      "metadata": {
        "id": "6OiGqQt_vbUV"
      },
      "execution_count": null,
      "outputs": []
    },
    {
      "cell_type": "code",
      "source": [
        "print(f\"User data shape: {user_data_scaled.shape}\")\n",
        "print(f\"Selected features: {selected_features}\")\n"
      ],
      "metadata": {
        "colab": {
          "base_uri": "https://localhost:8080/"
        },
        "id": "sfwlRtCdv42P",
        "outputId": "26ea8fcb-8b47-4134-d563-d169af9f4d18"
      },
      "execution_count": null,
      "outputs": [
        {
          "output_type": "stream",
          "name": "stdout",
          "text": [
            "User data shape: (1, 3)\n",
            "Selected features: ['Temperature (°C)', 'Vibration (mm/s)', 'Pressure (Pa)', 'RPM']\n"
          ]
        }
      ]
    },
    {
      "cell_type": "code",
      "source": [
        "#Step 9: Feature Importance\n",
        "print(\"\\nFeature Importance:\")\n",
        "feature_importances = best_model.feature_importances_\n",
        "importance_df = pd.DataFrame({\n",
        "    'Feature': selected_features,\n",
        "    'Importance': feature_importances\n",
        "}).sort_values(by='Importance', ascending=False)\n",
        "\n",
        "# Check the length of the arrays\n",
        "if len(selected_features) == len(feature_importances):\n",
        "    importance_df = pd.DataFrame({\n",
        "        'Feature': selected_features,\n",
        "        'Importance': feature_importances\n",
        "    }).sort_values(by='Importance', ascending=False)\n",
        "\n",
        "    # Plot Feature Importance\n",
        "    plt.figure(figsize=(8, 6))\n",
        "    plt.barh(importance_df['Feature'], importance_df['Importance'], color='skyblue')\n",
        "    plt.xlabel('Importance')\n",
        "    plt.title('Feature Importance')\n",
        "    plt.gca().invert_yaxis()\n",
        "    plt.show()\n",
        "else:\n",
        "    print(\"Feature selection and feature importances don't match in length.\")\n"
      ],
      "metadata": {
        "colab": {
          "base_uri": "https://localhost:8080/",
          "height": 599
        },
        "id": "fY6Deaf3wkL1",
        "outputId": "d59b1293-be87-463e-ba7a-a62983243812"
      },
      "execution_count": null,
      "outputs": [
        {
          "output_type": "stream",
          "name": "stdout",
          "text": [
            "\n",
            "Feature Importance:\n"
          ]
        },
        {
          "output_type": "display_data",
          "data": {
            "text/plain": [
              "<Figure size 800x600 with 1 Axes>"
            ],
            "image/png": "[encoded data removed]"
          },
          "metadata": {}
        }
      ]
    },
    {
      "cell_type": "code",
      "source": [
        "import numpy as np\n",
        "import pandas as pd\n",
        "\n",
        "from sklearn.preprocessing import StandardScaler\n",
        "from sklearn.ensemble import RandomForestClassifier\n",
        "from sklearn.model_selection import train_test_split\n",
        "\n",
        "# Example dataset (replace this with your actual dataset)\n",
        "df = pd.DataFrame({\n",
        "    'Temperature (°C)': [20.5, 21.0, 19.8, 21.2],\n",
        "    'Vibration (mm/s)': [1.1, 1.2, 1.3, 1.4],\n",
        "    'Pressure (Pa)': [101.2, 102.3, 103.1, 100.8],\n",
        "    'RPM': [1200, 1250, 1300, 1350],\n",
        "    'Failure': [0, 1, 0, 1]  # Example target variable\n",
        "})\n",
        "\n",
        "# Separate features and target\n",
        "X = df[['Temperature (°C)', 'Vibration (mm/s)', 'Pressure (Pa)', 'RPM']]\n",
        "y = df['Failure']\n",
        "\n",
        "# Split data into training and testing sets\n",
        "X_train, X_test, y_train, y_test = train_test_split(X, y, test_size=0.2, random_state=42)\n",
        "\n",
        "# Initialize and fit the scaler on the training data\n",
        "scaler = StandardScaler()\n",
        "scaler.fit(X_train)\n",
        "\n",
        "# Train a model (RandomForest as an example)\n",
        "best_model = RandomForestClassifier(n_estimators=100, random_state=42)\n",
        "best_model.fit(X_train, y_train)\n",
        "\n",
        "# List of selected features (should match the features used during training)\n",
        "selected_features = ['Temperature (°C)', 'Vibration (mm/s)', 'Pressure (Pa)', 'RPM']\n",
        "\n",
        "# Real-Time Prediction\n",
        "print(\"\\nEnter feature values for real-time prediction:\")\n",
        "user_inputs = [float(input(f\"Enter value for {feature}: \")) for feature in selected_features]\n",
        "\n",
        "# Scale user inputs and predict\n",
        "user_data = np.array(user_inputs).reshape(1, -1)\n",
        "user_data_scaled = scaler.transform(user_data)  # Scale using the fitted scaler\n",
        "prediction = best_model.predict(user_data_scaled)\n",
        "\n",
        "# Output prediction\n",
        "result = \"Failure Likely\" if prediction[0] == 1 else \"No Failure Predicted\"\n",
        "print(\"\\nPrediction:\", result)\n"
      ],
      "metadata": {
        "colab": {
          "base_uri": "https://localhost:8080/"
        },
        "id": "C-SdVMnMwtXT",
        "outputId": "766bc193-e627-4744-95d2-a16eeab6ac69"
      },
      "execution_count": null,
      "outputs": [
        {
          "output_type": "stream",
          "name": "stdout",
          "text": [
            "\n",
            "Enter feature values for real-time prediction:\n",
            "Enter value for Temperature (°C): 0.5\n",
            "Enter value for Vibration (mm/s): 0.2\n",
            "Enter value for Pressure (Pa): 1\n",
            "Enter value for RPM: 0.2\n",
            "\n",
            "Prediction: No Failure Predicted\n"
          ]
        },
        {
          "output_type": "stream",
          "name": "stderr",
          "text": [
            "/usr/local/lib/python3.10/dist-packages/sklearn/base.py:493: UserWarning: X does not have valid feature names, but StandardScaler was fitted with feature names\n",
            "  warnings.warn(\n",
            "/usr/local/lib/python3.10/dist-packages/sklearn/base.py:493: UserWarning: X does not have valid feature names, but RandomForestClassifier was fitted with feature names\n",
            "  warnings.warn(\n"
          ]
        }
      ]
    },
    {
      "cell_type": "code",
      "source": [],
      "metadata": {
        "id": "iT25uGoM0Zv5"
      },
      "execution_count": null,
      "outputs": []
    }
  ],
  "metadata": {
    "colab": {
      "provenance": [],
      "authorship_tag": "ABX9TyOwXrPT4hCugJizrfiZi/gD",
      "include_colab_link": true
    },
    "kernelspec": {
      "display_name": "Python 3",
      "name": "python3"
    },
    "language_info": {
      "name": "python"
    }
  },
  "nbformat": 4,
  "nbformat_minor": 0
}